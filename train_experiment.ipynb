{
 "cells": [
  {
   "cell_type": "code",
   "execution_count": null,
   "metadata": {},
   "outputs": [],
   "source": [
    "import time\n",
    "import random\n",
    "import glob\n",
    "\n",
    "import pandas as pd\n",
    "import numpy as np\n",
    "import matplotlib.pyplot as plt\n",
    "\n",
    "import tensorflow as tf\n",
    "from tensorflow import keras\n",
    "from tensorflow.keras import layers\n",
    "from keras.models import load_model\n"
   ]
  },
  {
   "cell_type": "code",
   "execution_count": null,
   "metadata": {},
   "outputs": [],
   "source": [
    "def plot_history(history):\n",
    "  hist = pd.DataFrame(history.history)\n",
    "  hist['epoch'] = history.epoch\n",
    "\n",
    "  plt.figure()\n",
    "  plt.xlabel('Epoch')\n",
    "  plt.ylabel('Mean Abs Percentage Error')\n",
    "  plt.plot(hist['epoch'], hist['mean_absolute_percentage_error'],\n",
    "           label='Train Error')\n",
    "#   plt.plot(hist['epoch'], hist['val_mean_absolute_error'],\n",
    "#            label = 'Val Error')\n",
    "#   plt.ylim([0,max(hist['val_mean_absolute_error'].max(), hist['mean_absolute_error'].max())])\n",
    "  plt.legend()\n",
    "    \n",
    "  plt.figure()\n",
    "  plt.xlabel('Epoch')\n",
    "  plt.ylabel('Mean Abs Error')\n",
    "  plt.plot(hist['epoch'], hist['mean_absolute_error'],\n",
    "           label='Train Error')\n",
    "#   plt.plot(hist['epoch'], hist['val_mean_absolute_error'],\n",
    "#            label = 'Val Error')\n",
    "#   plt.ylim([0,max(hist['val_mean_absolute_error'].max(), hist['mean_absolute_error'].max())])\n",
    "  plt.legend()\n",
    "\n",
    "  plt.figure()\n",
    "  plt.xlabel('Epoch')\n",
    "  plt.ylabel('Mean Square Error')\n",
    "  plt.plot(hist['epoch'], hist['mean_squared_error'],\n",
    "           label='Train Error')\n",
    "#   plt.plot(hist['epoch'], hist['val_mean_squared_error'],\n",
    "#            label = 'Val Error')\n",
    "#   plt.ylim([0,max(hist['val_mean_squared_error'].max(), hist['mean_squared_error'].max())])\n",
    "  plt.legend()\n",
    "  plt.show()\n"
   ]
  },
  {
   "cell_type": "code",
   "execution_count": null,
   "metadata": {},
   "outputs": [],
   "source": [
    "X_COLS = [\n",
    "    'weight', 'intra_error', 'frame_avg_wavelet_energy', \n",
    "    'coded_error', 'sr_coded_error', 'tr_coded_error',\n",
    "    'pcnt_inter', 'pcnt_motion', 'pcnt_second_ref', \n",
    "    'pcnt_third_ref', 'pcnt_neutral', 'inactive_zone_rows',\n",
    "    'inactive_zone_cols', 'MVr', 'mvr_abs', \n",
    "    'MVc', 'mvc_abs', 'MVrv', \n",
    "    'MVcv', 'mv_in_out_count', 'new_mv_count', \n",
    "    'raw_error_stdev',\n",
    "    'cq_value'\n",
    "]\n",
    "\n",
    "X_COLS = X_COLS + [f'nxt_{s}' for s in X_COLS]\n",
    "\n",
    "Y_COLS = [\n",
    "    'ms_ssim', 'psnr', 'ssim', 'vmaf'\n",
    "#     'vmaf'\n",
    "#     'ms_ssim', 'psnr', 'ssim'\n",
    "]\n",
    "\n",
    "# Y_COLS = ['vmaf']\n",
    "\n",
    "display(f'{len(X_COLS)=}, {len(Y_COLS)=}')"
   ]
  },
  {
   "cell_type": "code",
   "execution_count": null,
   "metadata": {},
   "outputs": [],
   "source": [
    "def load_data():\n",
    "    csvs = [f for f in glob.glob(f\"dataset/csv/*.csv\")]\n",
    "#     csvs = [csvs[0]]\n",
    "    csvs.sort()\n",
    "    print(csvs)\n",
    "    dfs = [pd.read_csv(f) for f in csvs]  # .diff().dropna()\n",
    "#     for df in dfs:\n",
    "#         df[X_COLS] = df[X_COLS].shift(-1) - df[X_COLS]\n",
    "    dfs = [pd.concat([df, df.shift(1).add_prefix('nxt_')], axis=1) for df in dfs]\n",
    "    return pd.concat(dfs, axis=0, ignore_index=True).dropna()"
   ]
  },
  {
   "cell_type": "code",
   "execution_count": null,
   "metadata": {
    "scrolled": false
   },
   "outputs": [],
   "source": [
    "df = load_data()\n",
    "display(df)"
   ]
  },
  {
   "cell_type": "code",
   "execution_count": null,
   "metadata": {},
   "outputs": [],
   "source": [
    "def build_model():\n",
    "    model = keras.Sequential([\n",
    "        layers.Dense(16, activation=tf.nn.relu, input_shape=[len(X_COLS)]),\n",
    "        layers.Dense(64, activation=tf.nn.relu),\n",
    "        layers.Dense(16, activation=tf.nn.relu),\n",
    "        layers.Dense(len(Y_COLS))\n",
    "    ])\n",
    "    \n",
    "    optimizer = tf.keras.optimizers.Nadam(learning_rate=0.005)\n",
    "    \n",
    "    # loss: mean_squared_error or mean_absolute_error\n",
    "    model.compile(loss='mean_absolute_error',\n",
    "                  optimizer=optimizer,\n",
    "                  metrics=['mean_absolute_percentage_error', 'mean_absolute_error', 'mean_squared_error'])\n",
    "    return model\n"
   ]
  },
  {
   "cell_type": "code",
   "execution_count": null,
   "metadata": {},
   "outputs": [],
   "source": [
    "x_train = df[X_COLS]\n",
    "y_train = df[Y_COLS]\n",
    "y_train['ssim'] *= 100\n",
    "y_train['ms_ssim'] *= 100\n",
    "\n",
    "x_train = (x_train - x_train.mean()) / x_train.std()\n",
    "y_train = (y_train - y_train.mean()) / y_train.std()\n",
    "\n",
    "display(x_train)\n",
    "display(y_train)"
   ]
  },
  {
   "cell_type": "code",
   "execution_count": null,
   "metadata": {},
   "outputs": [],
   "source": [
    "dataset = tf.data.Dataset.from_tensor_slices((x_train.values, y_train.values))\n",
    "train_dataset = dataset.shuffle(len(x_train)).batch(2048)"
   ]
  },
  {
   "cell_type": "code",
   "execution_count": null,
   "metadata": {},
   "outputs": [],
   "source": [
    "model = build_model()\n",
    "display(model.summary())"
   ]
  },
  {
   "cell_type": "code",
   "execution_count": null,
   "metadata": {
    "scrolled": false
   },
   "outputs": [],
   "source": [
    "# model.fit(train_dataset, epochs=10)\n",
    "history = model.fit(train_dataset, epochs=400)  # callbacks=[]"
   ]
  },
  {
   "cell_type": "code",
   "execution_count": null,
   "metadata": {},
   "outputs": [],
   "source": [
    "plot_history(history)"
   ]
  },
  {
   "cell_type": "code",
   "execution_count": null,
   "metadata": {
    "scrolled": false
   },
   "outputs": [],
   "source": [
    "def testp(start, end):\n",
    "    \n",
    "    tx = df.loc[start:end, X_COLS]\n",
    "    ty = df.loc[start:end, Y_COLS]\n",
    "    \n",
    "    display(tx)\n",
    "    display(ty)\n",
    "    \n",
    "    display(model.predict([tx]))\n",
    "\n",
    "testp(0, 5)\n",
    "testp(189000, 189000 + 5)"
   ]
  },
  {
   "cell_type": "code",
   "execution_count": null,
   "metadata": {},
   "outputs": [],
   "source": []
  },
  {
   "cell_type": "code",
   "execution_count": null,
   "metadata": {},
   "outputs": [],
   "source": []
  }
 ],
 "metadata": {
  "kernelspec": {
   "display_name": "Python 3",
   "language": "python",
   "name": "python3"
  },
  "language_info": {
   "codemirror_mode": {
    "name": "ipython",
    "version": 3
   },
   "file_extension": ".py",
   "mimetype": "text/x-python",
   "name": "python",
   "nbconvert_exporter": "python",
   "pygments_lexer": "ipython3",
   "version": "3.8.3"
  }
 },
 "nbformat": 4,
 "nbformat_minor": 4
}
